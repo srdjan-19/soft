{
 "cells": [
  {
   "cell_type": "code",
   "execution_count": 195,
   "metadata": {},
   "outputs": [],
   "source": [
    "from __future__ import print_function\n",
    "import cv2\n",
    "import lasagne\n",
    "import matplotlib\n",
    "import matplotlib.pyplot as plt\n",
    "import numpy as np\n",
    "import os\n",
    "import sys\n",
    "import theano\n",
    "import theano.tensor as T\n",
    "import time\n",
    "\n",
    "from pylab import cm, imshow, show"
   ]
  },
  {
   "cell_type": "code",
   "execution_count": 196,
   "metadata": {},
   "outputs": [],
   "source": [
    "import gzip\n",
    "\n",
    "def load_dataset():\n",
    "    def load_mnist_images(filename):\n",
    "        with gzip.open(filename, 'rb') as f:\n",
    "            data = np.frombuffer(f.read(), np.uint8, offset=16)\n",
    "        data = data.reshape(-1, 1, 28, 28)\n",
    "        return data / np.float32(256)\n",
    "\n",
    "    def load_mnist_labels(filename):\n",
    "        with gzip.open(filename, 'rb') as f:\n",
    "            data = np.frombuffer(f.read(), np.uint8, offset=8)\n",
    "        return data\n",
    "\n",
    "    X_train = load_mnist_images('mnist/train-images-idx3-ubyte.gz')\n",
    "    y_train = load_mnist_labels('mnist/train-labels-idx1-ubyte.gz')\n",
    "    X_test = load_mnist_images('mnist/t10k-images-idx3-ubyte.gz')\n",
    "    y_test = load_mnist_labels('mnist/t10k-labels-idx1-ubyte.gz')\n",
    "\n",
    "    X_train, X_val = X_train[:-10000], X_train[-10000:]\n",
    "    y_train, y_val = y_train[:-10000], y_train[-10000:]\n",
    "\n",
    "    return X_train, y_train, X_val, y_val, X_test, y_test"
   ]
  },
  {
   "cell_type": "code",
   "execution_count": 197,
   "metadata": {},
   "outputs": [],
   "source": [
    "X_train, y_train, X_val, y_val, X_test, y_test = load_dataset()"
   ]
  },
  {
   "cell_type": "code",
   "execution_count": 215,
   "metadata": {
    "scrolled": true
   },
   "outputs": [],
   "source": [
    "def dataset_test():\n",
    "    image_num = np.random.randint(0, X_test.shape[0])\n",
    "    image_array = X_test[image_num][0]\n",
    "    image_2d = np.reshape(image_array, (28, 28))\n",
    "    imshow(image_2d, cmap=cm.gray)\n",
    "    "
   ]
  },
  {
   "cell_type": "code",
   "execution_count": 216,
   "metadata": {},
   "outputs": [
    {
     "data": {
      "image/png": "[encoded data removed]",
      "text/plain": [
       "<Figure size 432x288 with 1 Axes>"
      ]
     },
     "metadata": {
      "needs_background": "light"
     },
     "output_type": "display_data"
    }
   ],
   "source": [
    "dataset_test()"
   ]
  },
  {
   "cell_type": "code",
   "execution_count": 217,
   "metadata": {},
   "outputs": [],
   "source": [
    "def network_builder(input_var=None):\n",
    "    input_layer = lasagne.layers.InputLayer(shape=(None, 1, 28, 28),\n",
    "                                        input_var=input_var)\n",
    "\n",
    "    conv1_layer = lasagne.layers.Conv2DLayer(\n",
    "            input_layer, num_filters=32, filter_size=(5, 5),\n",
    "            nonlinearity=lasagne.nonlinearities.rectify,\n",
    "            W=lasagne.init.GlorotUniform())\n",
    "\n",
    "    maxpool1_layer = lasagne.layers.MaxPool2DLayer(conv1_layer, pool_size=(2, 2))\n",
    "\n",
    "    conv2_layer = lasagne.layers.Conv2DLayer(\n",
    "            maxpool1_layer, num_filters=32, filter_size=(5, 5),\n",
    "            nonlinearity=lasagne.nonlinearities.rectify)\n",
    "            \n",
    "    maxpool2_layer = lasagne.layers.MaxPool2DLayer(conv2_layer, pool_size=(2, 2))\n",
    "\n",
    "    dense_layer = lasagne.layers.DenseLayer(\n",
    "            lasagne.layers.dropout(maxpool2_layer, p=.5),\n",
    "            num_units=256,\n",
    "            nonlinearity=lasagne.nonlinearities.rectify)\n",
    "\n",
    "    output_layer = lasagne.layers.DenseLayer(\n",
    "            lasagne.layers.dropout(dense_layer, p=.5),\n",
    "            num_units=10,\n",
    "            nonlinearity=lasagne.nonlinearities.softmax)\n",
    "\n",
    "    return output_layer"
   ]
  },
  {
   "cell_type": "code",
   "execution_count": 7,
   "metadata": {},
   "outputs": [],
   "source": [
    "def iterate_minibatches(inputs, targets, batchsize, shuffle=False):\n",
    "    assert len(inputs) == len(targets)\n",
    "    if shuffle:\n",
    "        indices = np.arange(len(inputs))\n",
    "        np.random.shuffle(indices)\n",
    "    for start_idx in range(0, len(inputs) - batchsize + 1, batchsize):\n",
    "        if shuffle:\n",
    "            excerpt = indices[start_idx:start_idx + batchsize]\n",
    "        else:\n",
    "            excerpt = slice(start_idx, start_idx + batchsize)\n",
    "        yield inputs[excerpt], targets[excerpt]"
   ]
  },
  {
   "cell_type": "code",
   "execution_count": 218,
   "metadata": {},
   "outputs": [],
   "source": [
    "def main(model='cnn', batch_size=500, num_epochs=500):\n",
    "    input_var = T.tensor4('inputs')\n",
    "    target_var = T.ivector('targets')\n",
    "\n",
    "    print(\"Building model and compiling functions...\")\n",
    "    network = build_cnn(input_var)\n",
    "    \n",
    "    prediction = lasagne.layers.get_output(network)\n",
    "    loss = lasagne.objectives.categorical_crossentropy(prediction, \n",
    "                                                       target_var)\n",
    "    loss = loss.mean()\n",
    "    \n",
    "    train_acc = T.mean(T.eq(T.argmax(prediction, axis=1), target_var),\n",
    "                      dtype=theano.config.floatX)\n",
    "\n",
    "    params = lasagne.layers.get_all_params(network, trainable=True)\n",
    "    updates = lasagne.updates.nesterov_momentum(loss, params, \n",
    "                                                learning_rate=0.01, \n",
    "                                                momentum=0.9)\n",
    "\n",
    "\n",
    "    test_prediction = lasagne.layers.get_output(network, \n",
    "                                                deterministic=True)\n",
    "    test_loss = lasagne.objectives.categorical_crossentropy(test_prediction, \n",
    "                                                            target_var)\n",
    "    test_loss = test_loss.mean()\n",
    "    \n",
    "    test_acc = T.mean(T.eq(T.argmax(test_prediction, axis=1), target_var),\n",
    "                      dtype=theano.config.floatX)\n",
    "\n",
    "    train_fn = theano.function([input_var, target_var], [loss, train_acc], updates=updates)\n",
    "\n",
    "    val_fn = theano.function([input_var, target_var], [test_loss, test_acc])\n",
    "\n",
    "    print(\"Starting training...\")\n",
    "    \n",
    "    for epoch in range(num_epochs):\n",
    "        train_err = 0\n",
    "        train_acc = 0\n",
    "        train_batches = 0\n",
    "        start_time = time.time()\n",
    "        for batch in iterate_minibatches(X_train, y_train, batch_size, shuffle=True):\n",
    "            inputs, targets = batch\n",
    "            err, acc = train_fn(inputs, targets)\n",
    "            train_err += err\n",
    "            train_acc += acc\n",
    "            train_batches += 1\n",
    "\n",
    "        val_err = 0\n",
    "        val_acc = 0\n",
    "        val_batches = 0\n",
    "        for batch in iterate_minibatches(X_val, y_val, batch_size, shuffle=False):\n",
    "            inputs, targets = batch\n",
    "            err, acc = val_fn(inputs, targets)\n",
    "            val_err += err\n",
    "            val_acc += acc\n",
    "            val_batches += 1\n",
    "\n",
    "        print(\"Epoch {} of {} took {:.3f}s\".format(\n",
    "            epoch + 1, num_epochs, time.time() - start_time))\n",
    "        print(\"  training loss:\\t\\t{:.6f}\".format(train_err / train_batches))\n",
    "        print(\"  training accuracy:\\t\\t{:.2f} %\".format(\n",
    "            train_acc / train_batches * 100))\n",
    "        print(\"  validation loss:\\t\\t{:.6f}\".format(val_err / val_batches))\n",
    "        print(\"  validation accuracy:\\t\\t{:.2f} %\".format(\n",
    "            val_acc / val_batches * 100))\n",
    "\n",
    "    test_err = 0\n",
    "    test_acc = 0\n",
    "    test_batches = 0\n",
    "    for batch in iterate_minibatches(X_test, y_test, batch_size, shuffle=False):\n",
    "        inputs, targets = batch\n",
    "        err, acc = val_fn(inputs, targets)\n",
    "        test_err += err\n",
    "        test_acc += acc\n",
    "        test_batches += 1\n",
    "    print(\"Final results:\")\n",
    "    print(\"  test loss:\\t\\t\\t{:.6f}\".format(test_err / test_batches))\n",
    "    print(\"  test accuracy:\\t\\t{:.2f} %\".format(\n",
    "        test_acc / test_batches * 100))\n",
    "    \n",
    "    np.savez('model.npz', *lasagne.layers.get_all_param_values(network))\n",
    "\n",
    "    all_layers = lasagne.layers.get_all_param_values(network)\n",
    "    \n",
    "    return all_layers"
   ]
  },
  {
   "cell_type": "code",
   "execution_count": null,
   "metadata": {
    "scrolled": false
   },
   "outputs": [
    {
     "name": "stdout",
     "output_type": "stream",
     "text": [
      "Building model and compiling functions...\n",
      "Starting training...\n",
      "Epoch 1 of 5 took 101.081s\n",
      "  training loss:\t\t0.467422\n",
      "  training accuracy:\t\t84.50 %\n",
      "  validation loss:\t\t0.081139\n",
      "  validation accuracy:\t\t97.79 %\n"
     ]
    }
   ],
   "source": [
    "all_layers = main(batch_size=50, num_epochs=5)"
   ]
  },
  {
   "cell_type": "code",
   "execution_count": 183,
   "metadata": {},
   "outputs": [
    {
     "name": "stdout",
     "output_type": "stream",
     "text": [
      "[[[0.         0.         0.         0.         0.         0.\n",
      "   0.         0.         0.         0.         0.         0.\n",
      "   0.         0.         0.         0.         0.         0.\n",
      "   0.         0.         0.         0.         0.         0.\n",
      "   0.         0.         0.         0.        ]\n",
      "  [0.         0.         0.         0.         0.         0.\n",
      "   0.         0.         0.         0.         0.         0.\n",
      "   0.         0.         0.         0.         0.         0.\n",
      "   0.         0.         0.         0.         0.         0.\n",
      "   0.         0.         0.         0.        ]\n",
      "  [0.         0.         0.         0.         0.         0.\n",
      "   0.         0.         0.         0.         0.         0.\n",
      "   0.         0.         0.         0.         0.         0.\n",
      "   0.         0.         0.         0.         0.         0.\n",
      "   0.         0.         0.         0.        ]\n",
      "  [0.         0.         0.         0.         0.         0.\n",
      "   0.         0.         0.         0.         0.453125   0.48828125\n",
      "   0.66796875 0.99609375 0.99609375 0.5859375  0.36328125 0.\n",
      "   0.         0.         0.         0.         0.         0.\n",
      "   0.         0.         0.         0.        ]\n",
      "  [0.         0.         0.         0.         0.         0.\n",
      "   0.         0.         0.         0.66015625 0.98828125 0.98828125\n",
      "   0.98828125 0.98828125 0.98828125 0.98828125 0.8515625  0.1171875\n",
      "   0.         0.         0.         0.         0.         0.\n",
      "   0.         0.         0.         0.        ]\n",
      "  [0.         0.         0.         0.         0.         0.\n",
      "   0.         0.         0.66015625 0.98828125 0.98828125 0.98828125\n",
      "   0.83203125 0.5546875  0.6875     0.98828125 0.98828125 0.4765625\n",
      "   0.         0.         0.         0.         0.         0.\n",
      "   0.         0.         0.         0.        ]\n",
      "  [0.         0.         0.         0.         0.         0.\n",
      "   0.         0.203125   0.9765625  0.98828125 0.8203125  0.125\n",
      "   0.046875   0.         0.0234375  0.8046875  0.98828125 0.546875\n",
      "   0.         0.         0.         0.         0.         0.\n",
      "   0.         0.         0.         0.        ]\n",
      "  [0.         0.         0.         0.         0.         0.\n",
      "   0.         0.30078125 0.98046875 0.8203125  0.09765625 0.\n",
      "   0.         0.         0.4765625  0.96875    0.98828125 0.25390625\n",
      "   0.         0.         0.         0.         0.         0.\n",
      "   0.         0.         0.         0.        ]\n",
      "  [0.         0.         0.         0.         0.         0.\n",
      "   0.         0.         0.12109375 0.0703125  0.         0.\n",
      "   0.         0.         0.81640625 0.98828125 0.98828125 0.25390625\n",
      "   0.         0.         0.         0.         0.         0.\n",
      "   0.         0.         0.         0.        ]\n",
      "  [0.         0.         0.         0.         0.         0.\n",
      "   0.         0.         0.         0.         0.         0.\n",
      "   0.         0.45703125 0.96484375 0.98828125 0.7734375  0.0390625\n",
      "   0.         0.         0.         0.         0.         0.\n",
      "   0.         0.         0.         0.        ]\n",
      "  [0.         0.         0.         0.         0.         0.\n",
      "   0.         0.         0.         0.         0.         0.\n",
      "   0.296875   0.96484375 0.98828125 0.90234375 0.24609375 0.\n",
      "   0.         0.         0.         0.         0.         0.\n",
      "   0.         0.         0.         0.        ]\n",
      "  [0.         0.         0.         0.         0.         0.\n",
      "   0.         0.         0.         0.         0.         0.\n",
      "   0.5        0.98828125 0.98828125 0.5625     0.         0.\n",
      "   0.         0.         0.         0.         0.         0.\n",
      "   0.         0.         0.         0.        ]\n",
      "  [0.         0.         0.         0.         0.         0.\n",
      "   0.         0.         0.         0.         0.         0.6875\n",
      "   0.9609375  0.98828125 0.62109375 0.046875   0.         0.\n",
      "   0.         0.         0.         0.         0.         0.\n",
      "   0.         0.         0.         0.        ]\n",
      "  [0.         0.         0.         0.         0.         0.\n",
      "   0.         0.         0.         0.         0.09765625 0.9140625\n",
      "   0.98828125 0.91015625 0.13671875 0.         0.         0.\n",
      "   0.         0.         0.         0.         0.         0.\n",
      "   0.         0.         0.         0.        ]\n",
      "  [0.         0.         0.         0.         0.         0.\n",
      "   0.         0.         0.         0.         0.7734375  0.98828125\n",
      "   0.98828125 0.55078125 0.         0.         0.         0.\n",
      "   0.         0.         0.         0.         0.         0.\n",
      "   0.         0.         0.         0.        ]\n",
      "  [0.         0.         0.         0.         0.         0.\n",
      "   0.         0.         0.         0.3046875  0.96875    0.98828125\n",
      "   0.73828125 0.046875   0.         0.         0.         0.\n",
      "   0.         0.         0.         0.         0.         0.\n",
      "   0.         0.         0.         0.        ]\n",
      "  [0.         0.         0.         0.         0.         0.\n",
      "   0.         0.         0.07421875 0.78125    0.98828125 0.98828125\n",
      "   0.55078125 0.         0.         0.         0.         0.\n",
      "   0.         0.         0.         0.         0.         0.\n",
      "   0.         0.         0.         0.        ]\n",
      "  [0.         0.         0.         0.         0.         0.\n",
      "   0.         0.         0.5234375  0.98828125 0.98828125 0.67578125\n",
      "   0.046875   0.         0.         0.         0.         0.\n",
      "   0.         0.         0.         0.         0.         0.\n",
      "   0.         0.         0.         0.        ]\n",
      "  [0.         0.         0.         0.         0.         0.\n",
      "   0.         0.         0.96875    0.98828125 0.98828125 0.09765625\n",
      "   0.         0.         0.         0.         0.         0.\n",
      "   0.         0.         0.         0.         0.         0.\n",
      "   0.         0.         0.         0.        ]\n",
      "  [0.         0.         0.         0.         0.         0.\n",
      "   0.         0.         0.96875    0.98828125 0.98828125 0.16796875\n",
      "   0.078125   0.078125   0.078125   0.078125   0.01953125 0.\n",
      "   0.01953125 0.078125   0.078125   0.14453125 0.5859375  0.5859375\n",
      "   0.5859375  0.57421875 0.0390625  0.        ]\n",
      "  [0.         0.         0.         0.         0.         0.\n",
      "   0.         0.         0.96875    0.98828125 0.98828125 0.98828125\n",
      "   0.98828125 0.98828125 0.98828125 0.98828125 0.65625    0.55859375\n",
      "   0.6484375  0.98828125 0.98828125 0.98828125 0.98828125 0.98828125\n",
      "   0.98828125 0.98828125 0.48046875 0.        ]\n",
      "  [0.         0.         0.         0.         0.         0.\n",
      "   0.         0.         0.6796875  0.98828125 0.98828125 0.98828125\n",
      "   0.98828125 0.98828125 0.98828125 0.98828125 0.98828125 0.98828125\n",
      "   0.98828125 0.98828125 0.97265625 0.96484375 0.96484375 0.66015625\n",
      "   0.45703125 0.45703125 0.22265625 0.        ]\n",
      "  [0.         0.         0.         0.         0.         0.\n",
      "   0.         0.         0.         0.4609375  0.48046875 0.48046875\n",
      "   0.48046875 0.6484375  0.98828125 0.98828125 0.98828125 0.60546875\n",
      "   0.48046875 0.48046875 0.16015625 0.         0.         0.\n",
      "   0.         0.         0.         0.        ]\n",
      "  [0.         0.         0.         0.         0.         0.\n",
      "   0.         0.         0.         0.         0.         0.\n",
      "   0.         0.         0.         0.         0.         0.\n",
      "   0.         0.         0.         0.         0.         0.\n",
      "   0.         0.         0.         0.        ]\n",
      "  [0.         0.         0.         0.         0.         0.\n",
      "   0.         0.         0.         0.         0.         0.\n",
      "   0.         0.         0.         0.         0.         0.\n",
      "   0.         0.         0.         0.         0.         0.\n",
      "   0.         0.         0.         0.        ]\n",
      "  [0.         0.         0.         0.         0.         0.\n",
      "   0.         0.         0.         0.         0.         0.\n",
      "   0.         0.         0.         0.         0.         0.\n",
      "   0.         0.         0.         0.         0.         0.\n",
      "   0.         0.         0.         0.        ]\n",
      "  [0.         0.         0.         0.         0.         0.\n",
      "   0.         0.         0.         0.         0.         0.\n",
      "   0.         0.         0.         0.         0.         0.\n",
      "   0.         0.         0.         0.         0.         0.\n",
      "   0.         0.         0.         0.        ]\n",
      "  [0.         0.         0.         0.         0.         0.\n",
      "   0.         0.         0.         0.         0.         0.\n",
      "   0.         0.         0.         0.         0.         0.\n",
      "   0.         0.         0.         0.         0.         0.\n",
      "   0.         0.         0.         0.        ]]]\n"
     ]
    }
   ],
   "source": [
    "real_num_fn = theano.function([input_var], prediction)\n",
    "\n",
    "num_max = real_num_fn([X_test[1]])\n",
    "\n",
    "print(X_test[1])\n",
    "result = np.where(num_max == np.amax(num_max))\n",
    "\n",
    "print(result[1][0])\n",
    "\n"
   ]
  },
  {
   "cell_type": "code",
   "execution_count": 63,
   "metadata": {},
   "outputs": [],
   "source": [
    "def find_value_of_test_img(param1):\n",
    "    val_fn = theano.function([input_var], prediction)\n",
    "    val = val_fn([X_test[param1]])\n",
    "    result = np.where(val == np.amax(val))\n",
    "    return result[1][0];"
   ]
  },
  {
   "cell_type": "code",
   "execution_count": 70,
   "metadata": {},
   "outputs": [
    {
     "data": {
      "text/plain": [
       "7"
      ]
     },
     "execution_count": 70,
     "metadata": {},
     "output_type": "execute_result"
    }
   ],
   "source": [
    "find_value_of_test_img(111)"
   ]
  },
  {
   "cell_type": "code",
   "execution_count": 109,
   "metadata": {},
   "outputs": [
    {
     "name": "stdout",
     "output_type": "stream",
     "text": [
      "32\n"
     ]
    },
    {
     "data": {
      "image/png": "[encoded data removed]",
      "text/plain": [
       "<Figure size 432x288 with 32 Axes>"
      ]
     },
     "metadata": {},
     "output_type": "display_data"
    }
   ],
   "source": [
    "c1_kernels = all_layers[0]  # get the learned weights for the first conv layer\n",
    "\n",
    "fig = plt.figure()\n",
    "fig.suptitle(\"Kernels\")\n",
    "\n",
    "print(len(c1_kernels))\n",
    "\n",
    "for j in range(len(c1_kernels)):\n",
    "    ax = fig.add_subplot(6, 6, j+1)\n",
    "    ax.matshow(c1_kernels[j][0], cmap=cm.gray)\n",
    "    plt.xticks(np.array([]))\n",
    "    plt.yticks(np.array([]))\n",
    "\n",
    "plt.show()"
   ]
  },
  {
   "cell_type": "code",
   "execution_count": 170,
   "metadata": {},
   "outputs": [],
   "source": [
    "def find_similiar_images(img_arr):\n",
    "    image_2d = np.reshape(img_arr, (28, 28))\n",
    "    image_4d = image_2d.reshape(1, 1, 28, 28)  # 4D representation of the image\n",
    "\n",
    "    x = T.tensor4().astype(theano.config.floatX)\n",
    "    conv_out = T.nnet.conv2d(input=x, filters=c1_kernels)  # convolve each kernel over the image\n",
    "\n",
    "    get_activity = theano.function([x], conv_out)\n",
    "    activation = get_activity(image_4d)\n",
    "    \n",
    "    result = np.where(activation[0][1] == np.amax(activation[0][1]))\n",
    "\n",
    "    \n",
    "    fig = plt.figure()\n",
    "    fig.suptitle(\"Feature Maps\")\n",
    "\n",
    "    for j in range(len(c1_kernels)):\n",
    "        ax = fig.add_subplot(6, 6, j+1)\n",
    "        ax.matshow(activation[0][j], cmap=cm.gray)\n",
    "        plt.xticks(np.array([]))\n",
    "        plt.yticks(np.array([]))\n",
    "        \n",
    "    plt.show()"
   ]
  },
  {
   "cell_type": "code",
   "execution_count": 175,
   "metadata": {
    "scrolled": false
   },
   "outputs": [
    {
     "data": {
      "image/png": "[encoded data removed]",
      "text/plain": [
       "<Figure size 432x288 with 32 Axes>"
      ]
     },
     "metadata": {},
     "output_type": "display_data"
    },
    {
     "name": "stdout",
     "output_type": "stream",
     "text": [
      "Softmax.0\n"
     ]
    }
   ],
   "source": [
    "image_num = np.random.randint(0, X_test.shape[0])\n",
    "image_array = X_test[14][0]\n",
    "find_my_value(image_array)\n",
    "\n",
    "prediction = lasagne.layers.get_output(network, deterministic=True)\n",
    "print(prediction)\n"
   ]
  },
  {
   "cell_type": "code",
   "execution_count": null,
   "metadata": {},
   "outputs": [],
   "source": [
    "import cv2\n",
    "\n",
    "video = cv2.VideoCapture(\"videos/video-0.avi\")\n",
    "\n",
    "print(\"asda\")\n",
    "while True:\n",
    "    ret, orig_frame = video.read()\n",
    "    frame = cv2.GaussianBlur(orig_frame, (5, 5), 0)"
   ]
  }
 ],
 "metadata": {
  "kernelspec": {
   "display_name": "Python 3",
   "language": "python",
   "name": "python3"
  },
  "language_info": {
   "codemirror_mode": {
    "name": "ipython",
    "version": 3
   },
   "file_extension": ".py",
   "mimetype": "text/x-python",
   "name": "python",
   "nbconvert_exporter": "python",
   "pygments_lexer": "ipython3",
   "version": "3.7.4"
  }
 },
 "nbformat": 4,
 "nbformat_minor": 2
}
